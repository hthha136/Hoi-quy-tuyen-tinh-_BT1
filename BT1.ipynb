{
  "nbformat": 4,
  "nbformat_minor": 0,
  "metadata": {
    "colab": {
      "provenance": []
    },
    "kernelspec": {
      "name": "python3",
      "display_name": "Python 3"
    },
    "language_info": {
      "name": "python"
    }
  },
  "cells": [
    {
      "cell_type": "code",
      "execution_count": null,
      "metadata": {
        "id": "dv5-zzWLRFsA"
      },
      "outputs": [],
      "source": [
        "# Load in our libraries\n",
        "import pandas as pd\n",
        "import numpy as np\n",
        "import matplotlib.pyplot as plt\n",
        "import seaborn as sns\n",
        "from sklearn.model_selection import train_test_split, cross_val_score\n",
        "from sklearn.dummy import DummyRegressor\n",
        "from sklearn.linear_model import LinearRegression\n",
        "from sklearn.preprocessing import StandardScaler\n",
        "from sklearn.metrics import r2_score\n",
        "import statsmodels.api as sm\n",
        "from scipy import stats"
      ]
    },
    {
      "cell_type": "code",
      "source": [
        "%cd '/content/drive/MyDrive/ML-DL/CodeGym'\n",
        "!ls"
      ],
      "metadata": {
        "colab": {
          "base_uri": "https://localhost:8080/"
        },
        "id": "1Zn5CyOVRtTz",
        "outputId": "2d884728-fa3d-4cd3-8c9a-a81f5a779626"
      },
      "execution_count": null,
      "outputs": [
        {
          "output_type": "stream",
          "name": "stdout",
          "text": [
            "/content/drive/MyDrive/ML-DL/CodeGym\n",
            "advertising.csv\t\t\t\t  Untitled11.ipynb  Untitled2.ipynb\n",
            "Credit_Scoring.csv\t\t\t  Untitled12.ipynb  Untitled3.ipynb\n",
            "GDPlist.csv\t\t\t\t  Untitled13.ipynb  Untitled4.ipynb\n",
            "house_price_Dống-Da_Hà-Nội_subdata.csv\t  Untitled14.ipynb  Untitled5.ipynb\n",
            "insurance.csv\t\t\t\t  Untitled15.ipynb  Untitled6.ipynb\n",
            "OnlineRetail.csv\t\t\t  Untitled16.ipynb  Untitled7.ipynb\n",
            "shopeep_koreantop_clothing_shop_data.csv  Untitled17.ipynb  Untitled8.ipynb\n",
            "Untitled0.ipynb\t\t\t\t  Untitled18.ipynb  Untitled9.ipynb\n",
            "Untitled10.ipynb\t\t\t  Untitled1.ipynb\n"
          ]
        }
      ]
    },
    {
      "cell_type": "code",
      "source": [
        "df = pd.read_csv('advertising.csv', encoding=\"latin1\")\n",
        "df.head(3)"
      ],
      "metadata": {
        "colab": {
          "base_uri": "https://localhost:8080/",
          "height": 143
        },
        "id": "Lvfylp3vRxEs",
        "outputId": "859e373d-9797-453d-9bb7-34d0469014ca"
      },
      "execution_count": null,
      "outputs": [
        {
          "output_type": "execute_result",
          "data": {
            "text/plain": [
              "      TV  Radio  Newspaper  Sales\n",
              "0  230.1   37.8       69.2   22.1\n",
              "1   44.5   39.3       45.1   10.4\n",
              "2   17.2   45.9       69.3   12.0"
            ],
            "text/html": [
              "\n",
              "  <div id=\"df-49479569-fc1d-4c5b-85b1-b351566ff764\">\n",
              "    <div class=\"colab-df-container\">\n",
              "      <div>\n",
              "<style scoped>\n",
              "    .dataframe tbody tr th:only-of-type {\n",
              "        vertical-align: middle;\n",
              "    }\n",
              "\n",
              "    .dataframe tbody tr th {\n",
              "        vertical-align: top;\n",
              "    }\n",
              "\n",
              "    .dataframe thead th {\n",
              "        text-align: right;\n",
              "    }\n",
              "</style>\n",
              "<table border=\"1\" class=\"dataframe\">\n",
              "  <thead>\n",
              "    <tr style=\"text-align: right;\">\n",
              "      <th></th>\n",
              "      <th>TV</th>\n",
              "      <th>Radio</th>\n",
              "      <th>Newspaper</th>\n",
              "      <th>Sales</th>\n",
              "    </tr>\n",
              "  </thead>\n",
              "  <tbody>\n",
              "    <tr>\n",
              "      <th>0</th>\n",
              "      <td>230.1</td>\n",
              "      <td>37.8</td>\n",
              "      <td>69.2</td>\n",
              "      <td>22.1</td>\n",
              "    </tr>\n",
              "    <tr>\n",
              "      <th>1</th>\n",
              "      <td>44.5</td>\n",
              "      <td>39.3</td>\n",
              "      <td>45.1</td>\n",
              "      <td>10.4</td>\n",
              "    </tr>\n",
              "    <tr>\n",
              "      <th>2</th>\n",
              "      <td>17.2</td>\n",
              "      <td>45.9</td>\n",
              "      <td>69.3</td>\n",
              "      <td>12.0</td>\n",
              "    </tr>\n",
              "  </tbody>\n",
              "</table>\n",
              "</div>\n",
              "      <button class=\"colab-df-convert\" onclick=\"convertToInteractive('df-49479569-fc1d-4c5b-85b1-b351566ff764')\"\n",
              "              title=\"Convert this dataframe to an interactive table.\"\n",
              "              style=\"display:none;\">\n",
              "        \n",
              "  <svg xmlns=\"http://www.w3.org/2000/svg\" height=\"24px\"viewBox=\"0 0 24 24\"\n",
              "       width=\"24px\">\n",
              "    <path d=\"M0 0h24v24H0V0z\" fill=\"none\"/>\n",
              "    <path d=\"M18.56 5.44l.94 2.06.94-2.06 2.06-.94-2.06-.94-.94-2.06-.94 2.06-2.06.94zm-11 1L8.5 8.5l.94-2.06 2.06-.94-2.06-.94L8.5 2.5l-.94 2.06-2.06.94zm10 10l.94 2.06.94-2.06 2.06-.94-2.06-.94-.94-2.06-.94 2.06-2.06.94z\"/><path d=\"M17.41 7.96l-1.37-1.37c-.4-.4-.92-.59-1.43-.59-.52 0-1.04.2-1.43.59L10.3 9.45l-7.72 7.72c-.78.78-.78 2.05 0 2.83L4 21.41c.39.39.9.59 1.41.59.51 0 1.02-.2 1.41-.59l7.78-7.78 2.81-2.81c.8-.78.8-2.07 0-2.86zM5.41 20L4 18.59l7.72-7.72 1.47 1.35L5.41 20z\"/>\n",
              "  </svg>\n",
              "      </button>\n",
              "      \n",
              "  <style>\n",
              "    .colab-df-container {\n",
              "      display:flex;\n",
              "      flex-wrap:wrap;\n",
              "      gap: 12px;\n",
              "    }\n",
              "\n",
              "    .colab-df-convert {\n",
              "      background-color: #E8F0FE;\n",
              "      border: none;\n",
              "      border-radius: 50%;\n",
              "      cursor: pointer;\n",
              "      display: none;\n",
              "      fill: #1967D2;\n",
              "      height: 32px;\n",
              "      padding: 0 0 0 0;\n",
              "      width: 32px;\n",
              "    }\n",
              "\n",
              "    .colab-df-convert:hover {\n",
              "      background-color: #E2EBFA;\n",
              "      box-shadow: 0px 1px 2px rgba(60, 64, 67, 0.3), 0px 1px 3px 1px rgba(60, 64, 67, 0.15);\n",
              "      fill: #174EA6;\n",
              "    }\n",
              "\n",
              "    [theme=dark] .colab-df-convert {\n",
              "      background-color: #3B4455;\n",
              "      fill: #D2E3FC;\n",
              "    }\n",
              "\n",
              "    [theme=dark] .colab-df-convert:hover {\n",
              "      background-color: #434B5C;\n",
              "      box-shadow: 0px 1px 3px 1px rgba(0, 0, 0, 0.15);\n",
              "      filter: drop-shadow(0px 1px 2px rgba(0, 0, 0, 0.3));\n",
              "      fill: #FFFFFF;\n",
              "    }\n",
              "  </style>\n",
              "\n",
              "      <script>\n",
              "        const buttonEl =\n",
              "          document.querySelector('#df-49479569-fc1d-4c5b-85b1-b351566ff764 button.colab-df-convert');\n",
              "        buttonEl.style.display =\n",
              "          google.colab.kernel.accessAllowed ? 'block' : 'none';\n",
              "\n",
              "        async function convertToInteractive(key) {\n",
              "          const element = document.querySelector('#df-49479569-fc1d-4c5b-85b1-b351566ff764');\n",
              "          const dataTable =\n",
              "            await google.colab.kernel.invokeFunction('convertToInteractive',\n",
              "                                                     [key], {});\n",
              "          if (!dataTable) return;\n",
              "\n",
              "          const docLinkHtml = 'Like what you see? Visit the ' +\n",
              "            '<a target=\"_blank\" href=https://colab.research.google.com/notebooks/data_table.ipynb>data table notebook</a>'\n",
              "            + ' to learn more about interactive tables.';\n",
              "          element.innerHTML = '';\n",
              "          dataTable['output_type'] = 'display_data';\n",
              "          await google.colab.output.renderOutput(dataTable, element);\n",
              "          const docLink = document.createElement('div');\n",
              "          docLink.innerHTML = docLinkHtml;\n",
              "          element.appendChild(docLink);\n",
              "        }\n",
              "      </script>\n",
              "    </div>\n",
              "  </div>\n",
              "  "
            ]
          },
          "metadata": {},
          "execution_count": 16
        }
      ]
    },
    {
      "cell_type": "code",
      "source": [
        "r1, pvalue1 = stats.spearmanr(df.TV, df.Sales)\n",
        "print (\"r1: \", r1, \"; pvalue1: \", pvalue1)"
      ],
      "metadata": {
        "colab": {
          "base_uri": "https://localhost:8080/"
        },
        "id": "IwjUt_4zZbrK",
        "outputId": "fc24ab2a-0255-4ea1-c0d9-8bba21b2f13a"
      },
      "execution_count": null,
      "outputs": [
        {
          "output_type": "stream",
          "name": "stdout",
          "text": [
            "r1:  0.9009956366533672 ; pvalue1:  9.699391979586503e-74\n"
          ]
        }
      ]
    },
    {
      "cell_type": "code",
      "source": [
        "g = sns.jointplot(df.TV, df.Sales, kind='reg')\n",
        "\n",
        "r1, pvalue1 = stats.spearmanr(df.TV, df.Sales)\n",
        "g.ax_joint.annotate(f'spearmanr = {r1:.3f}, pvalue = {pvalue1:.3f}',\n",
        "                    xy=(0.02, 0.95), xycoords='axes fraction',\n",
        "                    ha='left', va='center',\n",
        "                    bbox={'boxstyle': 'round', 'fc': 'powderblue', 'ec': 'navy'})\n",
        "g.set_axis_labels(xlabel='TV', ylabel='Sales', size=15)\n",
        "plt.tight_layout()\n",
        "plt.show()"
      ],
      "metadata": {
        "colab": {
          "base_uri": "https://localhost:8080/",
          "height": 494
        },
        "id": "KynsV-eMN-45",
        "outputId": "e7e3ee15-6c62-4664-bb9a-81f8e2bd28a6"
      },
      "execution_count": null,
      "outputs": [
        {
          "output_type": "stream",
          "name": "stderr",
          "text": [
            "/usr/local/lib/python3.7/dist-packages/seaborn/_decorators.py:43: FutureWarning: Pass the following variables as keyword args: x, y. From version 0.12, the only valid positional argument will be `data`, and passing other arguments without an explicit keyword will result in an error or misinterpretation.\n",
            "  FutureWarning\n"
          ]
        },
        {
          "output_type": "display_data",
          "data": {
            "text/plain": [
              "<Figure size 432x432 with 3 Axes>"
            ],
            "image/png": "[encoded data removed]"
          },
          "metadata": {}
        }
      ]
    },
    {
      "cell_type": "code",
      "source": [
        "X = df['TV'].values.reshape(-1,1)\n",
        "y = df['Sales'].values.reshape(-1,1)"
      ],
      "metadata": {
        "id": "QeiRv1oLSObA"
      },
      "execution_count": null,
      "outputs": []
    },
    {
      "cell_type": "code",
      "source": [
        "X_train, X_test, y_train, y_test = train_test_split(X, y, test_size=0.3, random_state=0) \n",
        "regressor = LinearRegression()  # Khai báo mô hình hồi quy tuyến tính\n",
        "regressor.fit(X_train, y_train) #Huấn luyện mô hình\n",
        "print( \"Mô hình hồi quy sẽ có dạng: Sales = a + b * TV \\nvới các hệ số a và b lần lượt là\")\n",
        "print(regressor.intercept_)\n",
        "#For retrieving the slope:\n",
        "print(regressor.coef_)"
      ],
      "metadata": {
        "colab": {
          "base_uri": "https://localhost:8080/"
        },
        "id": "ekO1ztd1SafK",
        "outputId": "9e0e5305-ece7-4c4c-944c-5f6ad1013653"
      },
      "execution_count": null,
      "outputs": [
        {
          "output_type": "stream",
          "name": "stdout",
          "text": [
            "Mô hình hồi quy sẽ có dạng: Sales = a + b * TV \n",
            "với các hệ số a và b lần lượt là\n",
            "[7.14382225]\n",
            "[[0.05473199]]\n"
          ]
        }
      ]
    },
    {
      "cell_type": "code",
      "source": [
        "y_hat_test = regressor.predict(X_test)\n",
        "\n",
        "r2_train = r2_score(y_train, regressor.predict(X_train))\n",
        "print(\"R2 trên tập huấn luyện của model là:\" + str(r2_train))\n",
        "r2_test = r2_score(y_test, y_hat_test)\n",
        "print(\"R2 trên tập kiểm tra của model là:\" + str(r2_test))\n",
        "\n",
        "print(\"\\n\") # xuống dòng\n",
        "\n",
        "from sklearn import metrics\n",
        "print('Mean Absolute Error MAE:', metrics.mean_absolute_error(y_test, y_hat_test))\n",
        "print('Mean Squared Error MSE:', metrics.mean_squared_error(y_test, y_hat_test))\n",
        "print('Root Mean Squared Error RMSE:', np.sqrt(metrics.mean_squared_error(y_test, y_hat_test)))"
      ],
      "metadata": {
        "colab": {
          "base_uri": "https://localhost:8080/"
        },
        "id": "d7Y8zTjmSp0g",
        "outputId": "916df92c-f631-4e58-e8eb-d40198f0d496"
      },
      "execution_count": null,
      "outputs": [
        {
          "output_type": "stream",
          "name": "stdout",
          "text": [
            "R2 trên tập huấn luyện của model là:0.805941153711277\n",
            "R2 trên tập kiểm tra của model là:0.8150168765722069\n",
            "\n",
            "\n",
            "Mean Absolute Error MAE: 1.8639438916550555\n",
            "Mean Squared Error MSE: 5.569539193467241\n",
            "Root Mean Squared Error RMSE: 2.3599871172248466\n"
          ]
        }
      ]
    },
    {
      "cell_type": "code",
      "source": [
        "#Define target array y\n",
        "y1= df['Sales'].values\n",
        "y1= y1.reshape(-1,1)\n",
        "\n",
        "#Create feature array X\n",
        "X1= df.drop('Sales',axis=1).values"
      ],
      "metadata": {
        "id": "-pvfqwQqUXiw"
      },
      "execution_count": null,
      "outputs": []
    },
    {
      "cell_type": "code",
      "source": [
        "#Split the arrays into training and testing data sets\n",
        "X1_train, X1_test,y1_train, y1_test= train_test_split(X1,y1,test_size=0.3,random_state=42)"
      ],
      "metadata": {
        "id": "UjILwlZBU_ij"
      },
      "execution_count": null,
      "outputs": []
    },
    {
      "cell_type": "code",
      "source": [
        "#Create a regressor object\n",
        "LR= LinearRegression()\n",
        "\n",
        "#Fit training set to the regressor\n",
        "LR.fit(X1_train,y1_train)\n",
        "\n",
        "print(\"Mô hình hồi quy tuyến tính đã được huấn luyện, có các tham số:\")\n",
        "print(\"Intercept =\", LR.intercept_)\n",
        "print(\"Coefficients:\", LR.coef_)"
      ],
      "metadata": {
        "colab": {
          "base_uri": "https://localhost:8080/"
        },
        "id": "AFtpJvR8VSmW",
        "outputId": "7b0eda66-a166-4cdd-fd0e-baf98c98260e"
      },
      "execution_count": null,
      "outputs": [
        {
          "output_type": "stream",
          "name": "stdout",
          "text": [
            "Mô hình hồi quy tuyến tính đã được huấn luyện, có các tham số:\n",
            "Intercept = [4.7437667]\n",
            "Coefficients: [[0.05358869 0.10270677 0.00793167]]\n"
          ]
        }
      ]
    },
    {
      "cell_type": "code",
      "source": [
        "y1_hat_test = LR.predict(X1_test)\n",
        "\n",
        "r2_train = r2_score(y1_train, LR.predict(X1_train))\n",
        "print(\"R2 trên tập huấn luyện của model là:\" + str(r2_train))\n",
        "r2_test = r2_score(y1_test, y1_hat_test)\n",
        "print(\"R2 trên tập kiểm tra của model là:\" + str(r2_test))\n",
        "\n",
        "print(\"\\n\") # xuống dòng\n",
        "\n",
        "from sklearn import metrics\n",
        "print('Mean Absolute Error MAE:', metrics.mean_absolute_error(y1_test, y1_hat_test))\n",
        "print('Mean Squared Error MSE:', metrics.mean_squared_error(y1_test, y1_hat_test))\n",
        "print('Root Mean Squared Error RMSE:', np.sqrt(metrics.mean_squared_error(y1_test, y1_hat_test)))"
      ],
      "metadata": {
        "colab": {
          "base_uri": "https://localhost:8080/"
        },
        "id": "r-jQkvC9VhO1",
        "outputId": "c1b50eb6-2ad1-48d3-dd9a-bc7818d96cd5"
      },
      "execution_count": null,
      "outputs": [
        {
          "output_type": "stream",
          "name": "stdout",
          "text": [
            "R2 trên tập huấn luyện của model là:0.8919647339302077\n",
            "R2 trên tập kiểm tra của model là:0.9091484341849798\n",
            "\n",
            "\n",
            "Mean Absolute Error MAE: 1.159487506109059\n",
            "Mean Squared Error MSE: 2.5416240362291505\n",
            "Root Mean Squared Error RMSE: 1.5942471691143598\n"
          ]
        }
      ]
    }
  ]
}